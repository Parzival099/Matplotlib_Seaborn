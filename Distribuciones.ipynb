{
 "cells": [
  {
   "cell_type": "code",
   "execution_count": 1,
   "metadata": {
    "id": "KLcJE66c3a7x"
   },
   "outputs": [],
   "source": [
    "import seaborn as sns\n",
    "import matplotlib.pyplot as plt "
   ]
  },
  {
   "cell_type": "code",
   "execution_count": 2,
   "metadata": {
    "colab": {
     "base_uri": "https://localhost:8080/",
     "height": 206
    },
    "executionInfo": {
     "elapsed": 161,
     "status": "ok",
     "timestamp": 1645121248288,
     "user": {
      "displayName": "Carlos Alarcón",
      "photoUrl": "https://lh3.googleusercontent.com/a-/AOh14Gi5yiEZVCJHSPXSQ3AFJwgX5SrkNoAR_UlJ0eA17A=s64",
      "userId": "13933052018899005349"
     },
     "user_tz": 300
    },
    "id": "AaU5Dm9e3fUY",
    "outputId": "4e2d9896-35cf-4059-e39a-2d6ee0f462d1"
   },
   "outputs": [
    {
     "data": {
      "text/html": [
       "<div>\n",
       "<style scoped>\n",
       "    .dataframe tbody tr th:only-of-type {\n",
       "        vertical-align: middle;\n",
       "    }\n",
       "\n",
       "    .dataframe tbody tr th {\n",
       "        vertical-align: top;\n",
       "    }\n",
       "\n",
       "    .dataframe thead th {\n",
       "        text-align: right;\n",
       "    }\n",
       "</style>\n",
       "<table border=\"1\" class=\"dataframe\">\n",
       "  <thead>\n",
       "    <tr style=\"text-align: right;\">\n",
       "      <th></th>\n",
       "      <th>total_bill</th>\n",
       "      <th>tip</th>\n",
       "      <th>sex</th>\n",
       "      <th>smoker</th>\n",
       "      <th>day</th>\n",
       "      <th>time</th>\n",
       "      <th>size</th>\n",
       "    </tr>\n",
       "  </thead>\n",
       "  <tbody>\n",
       "    <tr>\n",
       "      <th>0</th>\n",
       "      <td>16.99</td>\n",
       "      <td>1.01</td>\n",
       "      <td>Female</td>\n",
       "      <td>No</td>\n",
       "      <td>Sun</td>\n",
       "      <td>Dinner</td>\n",
       "      <td>2</td>\n",
       "    </tr>\n",
       "    <tr>\n",
       "      <th>1</th>\n",
       "      <td>10.34</td>\n",
       "      <td>1.66</td>\n",
       "      <td>Male</td>\n",
       "      <td>No</td>\n",
       "      <td>Sun</td>\n",
       "      <td>Dinner</td>\n",
       "      <td>3</td>\n",
       "    </tr>\n",
       "    <tr>\n",
       "      <th>2</th>\n",
       "      <td>21.01</td>\n",
       "      <td>3.50</td>\n",
       "      <td>Male</td>\n",
       "      <td>No</td>\n",
       "      <td>Sun</td>\n",
       "      <td>Dinner</td>\n",
       "      <td>3</td>\n",
       "    </tr>\n",
       "    <tr>\n",
       "      <th>3</th>\n",
       "      <td>23.68</td>\n",
       "      <td>3.31</td>\n",
       "      <td>Male</td>\n",
       "      <td>No</td>\n",
       "      <td>Sun</td>\n",
       "      <td>Dinner</td>\n",
       "      <td>2</td>\n",
       "    </tr>\n",
       "    <tr>\n",
       "      <th>4</th>\n",
       "      <td>24.59</td>\n",
       "      <td>3.61</td>\n",
       "      <td>Female</td>\n",
       "      <td>No</td>\n",
       "      <td>Sun</td>\n",
       "      <td>Dinner</td>\n",
       "      <td>4</td>\n",
       "    </tr>\n",
       "  </tbody>\n",
       "</table>\n",
       "</div>"
      ],
      "text/plain": [
       "   total_bill   tip     sex smoker  day    time  size\n",
       "0       16.99  1.01  Female     No  Sun  Dinner     2\n",
       "1       10.34  1.66    Male     No  Sun  Dinner     3\n",
       "2       21.01  3.50    Male     No  Sun  Dinner     3\n",
       "3       23.68  3.31    Male     No  Sun  Dinner     2\n",
       "4       24.59  3.61  Female     No  Sun  Dinner     4"
      ]
     },
     "execution_count": 2,
     "metadata": {},
     "output_type": "execute_result"
    }
   ],
   "source": [
    "tips = sns.load_dataset(\"tips\")\n",
    "\n",
    "tips.head()"
   ]
  },
  {
   "cell_type": "markdown",
   "metadata": {
    "id": "dpIw5FYwXTt2"
   },
   "source": [
    "STAT:\n",
    "    count: show the number of observations in each bin\n",
    "\n",
    "    frequency: show the number of observations divided by the bin width\n",
    "\n",
    "    probability: or proportion: normalize such that bar heights sum to 1\n",
    "\n",
    "    percent: normalize such that bar heights sum to 100\n",
    "\n",
    "    density: normalize such that the total area of the histogram equals 1"
   ]
  },
  {
   "cell_type": "code",
   "execution_count": 10,
   "metadata": {
    "colab": {
     "base_uri": "https://localhost:8080/",
     "height": 279
    },
    "executionInfo": {
     "elapsed": 745,
     "status": "ok",
     "timestamp": 1645121594943,
     "user": {
      "displayName": "Carlos Alarcón",
      "photoUrl": "https://lh3.googleusercontent.com/a-/AOh14Gi5yiEZVCJHSPXSQ3AFJwgX5SrkNoAR_UlJ0eA17A=s64",
      "userId": "13933052018899005349"
     },
     "user_tz": 300
    },
    "id": "BhOAFf0I3trS",
    "outputId": "cacfe2ea-fe14-4365-c225-7d2301bf9eb6"
   },
   "outputs": [
    {
     "data": {
      "image/png": "[encoded data removed]",
      "text/plain": [
       "<Figure size 432x288 with 1 Axes>"
      ]
     },
     "metadata": {
      "needs_background": "light"
     },
     "output_type": "display_data"
    }
   ],
   "source": [
    "sns.histplot(data=tips, x='tip',bins=20,cumulative=False,hue='sex',stat='count',multiple='dodge')\n",
    "plt.show()"
   ]
  },
  {
   "cell_type": "markdown",
   "metadata": {
    "id": "C4iHqazTXZtp"
   },
   "source": [
    "bw_adjust -- smooth"
   ]
  },
  {
   "cell_type": "code",
   "execution_count": 4,
   "metadata": {
    "colab": {
     "base_uri": "https://localhost:8080/",
     "height": 279
    },
    "executionInfo": {
     "elapsed": 643,
     "status": "ok",
     "timestamp": 1645121746357,
     "user": {
      "displayName": "Carlos Alarcón",
      "photoUrl": "https://lh3.googleusercontent.com/a-/AOh14Gi5yiEZVCJHSPXSQ3AFJwgX5SrkNoAR_UlJ0eA17A=s64",
      "userId": "13933052018899005349"
     },
     "user_tz": 300
    },
    "id": "2O00j16U448I",
    "outputId": "663f1507-2ab7-487a-e27c-ef33b8d30ef1"
   },
   "outputs": [
    {
     "data": {
      "image/png": "[encoded data removed]",
      "text/plain": [
       "<Figure size 432x288 with 1 Axes>"
      ]
     },
     "metadata": {
      "needs_background": "light"
     },
     "output_type": "display_data"
    }
   ],
   "source": [
    "sns.kdeplot(data=tips,x='tip',hue='sex',cumulative=False,shade=True,bw_adjust=1)\n",
    "plt.show()\n"
   ]
  },
  {
   "cell_type": "code",
   "execution_count": null,
   "metadata": {
    "colab": {
     "base_uri": "https://localhost:8080/",
     "height": 279
    },
    "executionInfo": {
     "elapsed": 1167,
     "status": "ok",
     "timestamp": 1645121814294,
     "user": {
      "displayName": "Carlos Alarcón",
      "photoUrl": "https://lh3.googleusercontent.com/a-/AOh14Gi5yiEZVCJHSPXSQ3AFJwgX5SrkNoAR_UlJ0eA17A=s64",
      "userId": "13933052018899005349"
     },
     "user_tz": 300
    },
    "id": "ALQB2w-E5dSZ",
    "outputId": "9d76bc46-b2b8-45c7-c128-1591fc069363"
   },
   "outputs": [
    {
     "data": {
      "image/png": "[encoded data removed]",
      "text/plain": [
       "<Figure size 432x288 with 1 Axes>"
      ]
     },
     "metadata": {
      "needs_background": "light"
     },
     "output_type": "display_data"
    }
   ],
   "source": [
    "sns.ecdfplot(data=tips,x='tip',hue='sex',stat='count')\n",
    "plt.show()"
   ]
  },
  {
   "cell_type": "code",
   "execution_count": 5,
   "metadata": {
    "colab": {
     "base_uri": "https://localhost:8080/",
     "height": 369
    },
    "executionInfo": {
     "elapsed": 911,
     "status": "ok",
     "timestamp": 1645121913018,
     "user": {
      "displayName": "Carlos Alarcón",
      "photoUrl": "https://lh3.googleusercontent.com/a-/AOh14Gi5yiEZVCJHSPXSQ3AFJwgX5SrkNoAR_UlJ0eA17A=s64",
      "userId": "13933052018899005349"
     },
     "user_tz": 300
    },
    "id": "wLNkdc0M5wop",
    "outputId": "ad79c7c0-8672-4883-9c99-bccabff162f8"
   },
   "outputs": [
    {
     "data": {
      "image/png": "[encoded data removed]",
      "text/plain": [
       "<Figure size 432.125x360 with 1 Axes>"
      ]
     },
     "metadata": {
      "needs_background": "light"
     },
     "output_type": "display_data"
    }
   ],
   "source": [
    "sns.displot(data=tips,x='tip',hue='sex',kind='hist',multiple='stack')\n",
    "plt.show()"
   ]
  }
 ],
 "metadata": {
  "colab": {
   "collapsed_sections": [],
   "name": "Distribuciones.ipynb",
   "provenance": []
  },
  "kernelspec": {
   "display_name": "Python 3 (ipykernel)",
   "language": "python",
   "name": "python3"
  },
  "language_info": {
   "codemirror_mode": {
    "name": "ipython",
    "version": 3
   },
   "file_extension": ".py",
   "mimetype": "text/x-python",
   "name": "python",
   "nbconvert_exporter": "python",
   "pygments_lexer": "ipython3",
   "version": "3.9.7"
  }
 },
 "nbformat": 4,
 "nbformat_minor": 1
}
