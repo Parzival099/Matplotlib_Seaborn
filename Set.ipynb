{
 "cells": [
  {
   "cell_type": "code",
   "execution_count": 1,
   "metadata": {
    "id": "l4hksHCNmR2G"
   },
   "outputs": [],
   "source": [
    "import seaborn as sns\n",
    "import matplotlib.pyplot as plt"
   ]
  },
  {
   "cell_type": "code",
   "execution_count": 15,
   "metadata": {
    "colab": {
     "base_uri": "https://localhost:8080/",
     "height": 265
    },
    "executionInfo": {
     "elapsed": 398,
     "status": "ok",
     "timestamp": 1645116841692,
     "user": {
      "displayName": "Carlos Alarcón",
      "photoUrl": "https://lh3.googleusercontent.com/a-/AOh14Gi5yiEZVCJHSPXSQ3AFJwgX5SrkNoAR_UlJ0eA17A=s64",
      "userId": "13933052018899005349"
     },
     "user_tz": 300
    },
    "id": "jUBfnZTJmdzk",
    "outputId": "53240325-7488-4417-c6bd-0947a55c4e7e"
   },
   "outputs": [
    {
     "data": {
      "image/png": "[encoded data removed]",
      "text/plain": [
       "<Figure size 432x288 with 1 Axes>"
      ]
     },
     "metadata": {},
     "output_type": "display_data"
    }
   ],
   "source": [
    "sns.barplot(x=['A','B','C'],y=[1,3,2])\n",
    "plt.show()"
   ]
  },
  {
   "cell_type": "code",
   "execution_count": null,
   "metadata": {
    "id": "puFFAWKlVVLs"
   },
   "outputs": [],
   "source": [
    "## style : darkgrid, whitegrid, dark, white, ticks\n",
    "## pallette: deep, muted, pastel, bright, dark, and colorblind. "
   ]
  },
  {
   "cell_type": "code",
   "execution_count": 19,
   "metadata": {
    "colab": {
     "base_uri": "https://localhost:8080/",
     "height": 268
    },
    "executionInfo": {
     "elapsed": 383,
     "status": "ok",
     "timestamp": 1645116979334,
     "user": {
      "displayName": "Carlos Alarcón",
      "photoUrl": "https://lh3.googleusercontent.com/a-/AOh14Gi5yiEZVCJHSPXSQ3AFJwgX5SrkNoAR_UlJ0eA17A=s64",
      "userId": "13933052018899005349"
     },
     "user_tz": 300
    },
    "id": "SlyfqxqemyNH",
    "outputId": "f2e23969-bdd5-4c4e-c48c-1cf03bcff05d"
   },
   "outputs": [
    {
     "data": {
      "image/png": "[encoded data removed]",
      "text/plain": [
       "<Figure size 432x288 with 1 Axes>"
      ]
     },
     "metadata": {},
     "output_type": "display_data"
    }
   ],
   "source": [
    "sns.set(style='dark',palette='bright',font=\"Verdana\",font_scale=1)\n",
    "sns.barplot(x=['A','B','C', 'D'],y=[1,3,2,4])\n",
    "plt.show()"
   ]
  }
 ],
 "metadata": {
  "colab": {
   "collapsed_sections": [],
   "name": "set.ipynb",
   "provenance": []
  },
  "kernelspec": {
   "display_name": "Python 3 (ipykernel)",
   "language": "python",
   "name": "python3"
  },
  "language_info": {
   "codemirror_mode": {
    "name": "ipython",
    "version": 3
   },
   "file_extension": ".py",
   "mimetype": "text/x-python",
   "name": "python",
   "nbconvert_exporter": "python",
   "pygments_lexer": "ipython3",
   "version": "3.9.7"
  }
 },
 "nbformat": 4,
 "nbformat_minor": 1
}
